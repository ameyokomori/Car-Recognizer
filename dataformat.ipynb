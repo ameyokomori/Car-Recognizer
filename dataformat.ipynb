{
 "cells": [
  {
   "cell_type": "code",
   "execution_count": 1,
   "metadata": {},
   "outputs": [],
   "source": [
    "import os\n",
    "import numpy as np\n",
    "import PIL\n",
    "import matplotlib.pyplot as plt\n",
    "import pandas as pd"
   ]
  },
  {
   "cell_type": "code",
   "execution_count": null,
   "metadata": {},
   "outputs": [],
   "source": [
    "def convert_train_data(file_dir):\n",
    " \n",
    "    file_dir = 'data/car_data/train/'\n",
    "    anno_dir = 'data/anno_train.csv'\n",
    "    class_dir = 'data/names.csv'\n",
    "    anno_data = pd.read_csv(anno_dir)\n",
    "    anno_data_array = np.array(anno_data)\n",
    "    class_data = pd.read_csv(class_dir)\n",
    "    class_data_array = np.array(class_data)\n",
    " \n",
    "    for i in range(csv_data_array.shape[0]):\n",
    "        csv_data_list = np.array(csv_data)[i, :].tolist()[0].split(\";\")\n",
    "        sample_dir = os.path.join(file_dir, csv_data_list[0])\n",
    "        img = PIL.Image.open(sample_dir)\n",
    "        box = (int(csv_data_list[3]), int(csv_data_list[4]), int(csv_data_list[5]), int(csv_data_list[6]))\n",
    "        label = int(csv_data_list[7])\n",
    "        roi_img = img.crop(box)\n",
    "        if(label<10):\n",
    "            path = str(root_dir)+'0000'+str(label)\n",
    "        else:\n",
    "            path = str(root_dir)+'000'+str(label)\n",
    "        if not os.path.exists(path):\n",
    "            os.makedirs(path)\n",
    "        new_dir = os.path.join(path, csv_data_list[0].split(\".\")[0] + \".png\")\n",
    "        roi_img.save(new_dir, 'PNG')\n"
   ]
  },
  {
   "cell_type": "code",
   "execution_count": 3,
   "metadata": {},
   "outputs": [],
   "source": [
    "class_dir = 'data/names.csv'\n",
    "class_data = pd.read_csv(class_dir)\n",
    "class_data_array = np.array(class_data)"
   ]
  },
  {
   "cell_type": "code",
   "execution_count": 5,
   "metadata": {},
   "outputs": [
    {
     "data": {
      "text/plain": [
       "195"
      ]
     },
     "execution_count": 5,
     "metadata": {},
     "output_type": "execute_result"
    }
   ],
   "source": [
    "len(class_data_array)"
   ]
  }
 ],
 "metadata": {
  "kernelspec": {
   "display_name": "Python 3",
   "language": "python",
   "name": "python3"
  },
  "language_info": {
   "codemirror_mode": {
    "name": "ipython",
    "version": 3
   },
   "file_extension": ".py",
   "mimetype": "text/x-python",
   "name": "python",
   "nbconvert_exporter": "python",
   "pygments_lexer": "ipython3",
   "version": "3.6.6"
  }
 },
 "nbformat": 4,
 "nbformat_minor": 2
}
